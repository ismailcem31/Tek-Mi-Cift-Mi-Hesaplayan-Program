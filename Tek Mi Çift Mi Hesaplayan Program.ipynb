{
 "cells": [
  {
   "cell_type": "code",
   "execution_count": null,
   "id": "f764c59a",
   "metadata": {},
   "outputs": [],
   "source": [
    "# Sayıyı kullanıcıdan al\n",
    "sayi = int(input(\"Bir sayı giriniz: \"))\n",
    " \n",
    "# Sayının tek mi çift mi olduğunu kontrol et\n",
    "if sayi % 2 == 0:\n",
    "    sonuc = 'çift'\n",
    "else:\n",
    "    sonuc = 'tek'\n",
    " \n",
    "print(\"Girdiğiniz sayı \", sonuc, \" bir sayıdır.\")"
   ]
  }
 ],
 "metadata": {
  "kernelspec": {
   "display_name": "Python 3 (ipykernel)",
   "language": "python",
   "name": "python3"
  },
  "language_info": {
   "codemirror_mode": {
    "name": "ipython",
    "version": 3
   },
   "file_extension": ".py",
   "mimetype": "text/x-python",
   "name": "python",
   "nbconvert_exporter": "python",
   "pygments_lexer": "ipython3",
   "version": "3.11.3"
  }
 },
 "nbformat": 4,
 "nbformat_minor": 5
}
